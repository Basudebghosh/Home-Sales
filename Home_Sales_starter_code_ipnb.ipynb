{
 "cells": [
  {
   "cell_type": "code",
   "execution_count": null,
   "metadata": {
    "colab": {
     "base_uri": "https://localhost:8080/"
    },
    "id": "a_KW73O2e3dw",
    "outputId": "fa5fd2b3-e2de-491b-ee1c-405317ba7ebc"
   },
   "outputs": [],
   "source": [
    "# Import findspark and initialise. \n",
    "import findspark\n",
    "findspark.init()"
   ]
  },
  {
   "cell_type": "code",
   "execution_count": null,
   "metadata": {},
   "outputs": [],
   "source": [
    "# Import packages\n",
    "from pyspark.sql import SparkSession\n",
    "import time\n",
    "\n",
    "# Create a SparkSession\n",
    "spark = SparkSession.builder.appName(\"SparkSQL\").getOrCreate()"
   ]
  },
  {
   "cell_type": "code",
   "execution_count": 1,
   "metadata": {},
   "outputs": [],
   "source": [
    "# 1. Read in the AWS S3 bucket into a DataFrame\n",
    "import pandas as pd\n",
    "from pyspark import SparkFiles\n",
    "url = \"https://2u-data-curriculum-team.s3.amazonaws.com/dataviz-classroom/v1.2/22-big-data/home_sales_revised.csv\"\n",
    "\n"
   ]
  },
  {
   "cell_type": "code",
   "execution_count": 2,
   "metadata": {
    "id": "RoljcJ7WPpnm"
   },
   "outputs": [
    {
     "data": {
      "text/html": [
       "<div>\n",
       "<style scoped>\n",
       "    .dataframe tbody tr th:only-of-type {\n",
       "        vertical-align: middle;\n",
       "    }\n",
       "\n",
       "    .dataframe tbody tr th {\n",
       "        vertical-align: top;\n",
       "    }\n",
       "\n",
       "    .dataframe thead th {\n",
       "        text-align: right;\n",
       "    }\n",
       "</style>\n",
       "<table border=\"1\" class=\"dataframe\">\n",
       "  <thead>\n",
       "    <tr style=\"text-align: right;\">\n",
       "      <th></th>\n",
       "      <th>id</th>\n",
       "      <th>date</th>\n",
       "      <th>date_built</th>\n",
       "      <th>price</th>\n",
       "      <th>bedrooms</th>\n",
       "      <th>bathrooms</th>\n",
       "      <th>sqft_living</th>\n",
       "      <th>sqft_lot</th>\n",
       "      <th>floors</th>\n",
       "      <th>waterfront</th>\n",
       "      <th>view</th>\n",
       "    </tr>\n",
       "  </thead>\n",
       "  <tbody>\n",
       "    <tr>\n",
       "      <th>0</th>\n",
       "      <td>f8a53099-ba1c-47d6-9c31-7398aa8f6089</td>\n",
       "      <td>2022-04-08</td>\n",
       "      <td>2016</td>\n",
       "      <td>936923</td>\n",
       "      <td>4</td>\n",
       "      <td>3</td>\n",
       "      <td>3167</td>\n",
       "      <td>11733</td>\n",
       "      <td>2</td>\n",
       "      <td>1</td>\n",
       "      <td>76</td>\n",
       "    </tr>\n",
       "    <tr>\n",
       "      <th>1</th>\n",
       "      <td>7530a2d8-1ae3-4517-9f4a-befe060c4353</td>\n",
       "      <td>2021-06-13</td>\n",
       "      <td>2013</td>\n",
       "      <td>379628</td>\n",
       "      <td>2</td>\n",
       "      <td>2</td>\n",
       "      <td>2235</td>\n",
       "      <td>14384</td>\n",
       "      <td>1</td>\n",
       "      <td>0</td>\n",
       "      <td>23</td>\n",
       "    </tr>\n",
       "    <tr>\n",
       "      <th>2</th>\n",
       "      <td>43de979c-0bf0-4c9f-85ef-96dc27b258d5</td>\n",
       "      <td>2019-04-12</td>\n",
       "      <td>2014</td>\n",
       "      <td>417866</td>\n",
       "      <td>2</td>\n",
       "      <td>2</td>\n",
       "      <td>2127</td>\n",
       "      <td>10575</td>\n",
       "      <td>2</td>\n",
       "      <td>0</td>\n",
       "      <td>0</td>\n",
       "    </tr>\n",
       "    <tr>\n",
       "      <th>3</th>\n",
       "      <td>b672c137-b88c-48bf-9f18-d0a4ac62fb8b</td>\n",
       "      <td>2019-10-16</td>\n",
       "      <td>2016</td>\n",
       "      <td>239895</td>\n",
       "      <td>2</td>\n",
       "      <td>2</td>\n",
       "      <td>1631</td>\n",
       "      <td>11149</td>\n",
       "      <td>2</td>\n",
       "      <td>0</td>\n",
       "      <td>0</td>\n",
       "    </tr>\n",
       "    <tr>\n",
       "      <th>4</th>\n",
       "      <td>e0726d4d-d595-4074-8283-4139a54d0d63</td>\n",
       "      <td>2022-01-08</td>\n",
       "      <td>2017</td>\n",
       "      <td>424418</td>\n",
       "      <td>3</td>\n",
       "      <td>2</td>\n",
       "      <td>2249</td>\n",
       "      <td>13878</td>\n",
       "      <td>2</td>\n",
       "      <td>0</td>\n",
       "      <td>4</td>\n",
       "    </tr>\n",
       "  </tbody>\n",
       "</table>\n",
       "</div>"
      ],
      "text/plain": [
       "                                     id        date  date_built   price   \n",
       "0  f8a53099-ba1c-47d6-9c31-7398aa8f6089  2022-04-08        2016  936923  \\\n",
       "1  7530a2d8-1ae3-4517-9f4a-befe060c4353  2021-06-13        2013  379628   \n",
       "2  43de979c-0bf0-4c9f-85ef-96dc27b258d5  2019-04-12        2014  417866   \n",
       "3  b672c137-b88c-48bf-9f18-d0a4ac62fb8b  2019-10-16        2016  239895   \n",
       "4  e0726d4d-d595-4074-8283-4139a54d0d63  2022-01-08        2017  424418   \n",
       "\n",
       "   bedrooms  bathrooms  sqft_living  sqft_lot  floors  waterfront  view  \n",
       "0         4          3         3167     11733       2           1    76  \n",
       "1         2          2         2235     14384       1           0    23  \n",
       "2         2          2         2127     10575       2           0     0  \n",
       "3         2          2         1631     11149       2           0     0  \n",
       "4         3          2         2249     13878       2           0     4  "
      ]
     },
     "execution_count": 2,
     "metadata": {},
     "output_type": "execute_result"
    }
   ],
   "source": [
    "# 2. Create a temporary view of the DataFrame.\n",
    "\n",
    "home_sale_df = pd.read_csv(\"https://2u-data-curriculum-team.s3.amazonaws.com/dataviz-classroom/v1.2/22-big-data/home_sales_revised.csv\")\n",
    "home_sale_df.head()"
   ]
  },
  {
   "cell_type": "code",
   "execution_count": 3,
   "metadata": {
    "colab": {
     "base_uri": "https://localhost:8080/"
    },
    "id": "L6fkwOeOmqvq",
    "outputId": "bdded620-79c4-488d-c7a5-91c6799c419e"
   },
   "outputs": [
    {
     "name": "stdout",
     "output_type": "stream",
     "text": [
      "            date      price\n",
      "0     2019-01-01  365088.00\n",
      "1     2019-01-02  271644.29\n",
      "2     2019-01-03  381218.86\n",
      "3     2019-01-04  359586.14\n",
      "4     2019-01-05  323683.57\n",
      "...          ...        ...\n",
      "1256  2022-06-10  329435.69\n",
      "1257  2022-06-11  301498.07\n",
      "1258  2022-06-12  211683.20\n",
      "1259  2022-06-13  329998.88\n",
      "1260  2022-06-14  222403.00\n",
      "\n",
      "[1261 rows x 2 columns]\n"
     ]
    }
   ],
   "source": [
    "# 3. What is the average price for a four bedroom house sold in each year rounded to two decimal places?\n",
    "# Create a Pandas DataFrame from the CSV file\n",
    "home_sale_df = pd.read_csv(\"https://2u-data-curriculum-team.s3.amazonaws.com/dataviz-classroom/v1.2/22-big-data/home_sales_revised.csv\")\n",
    "\n",
    "# Assuming 'date' is the correct column name representing the year\n",
    "average_price_by_year = home_sale_df[home_sale_df['bedrooms'] == 4].groupby('date')['price'].mean().round(2).reset_index()\n",
    "\n",
    "print(average_price_by_year)\n"
   ]
  },
  {
   "cell_type": "code",
   "execution_count": 4,
   "metadata": {
    "colab": {
     "base_uri": "https://localhost:8080/"
    },
    "id": "l8p_tUS8h8it",
    "outputId": "65806e5f-6262-41c0-ff65-5107464e5c4d"
   },
   "outputs": [
    {
     "name": "stdout",
     "output_type": "stream",
     "text": [
      "   date_built      price\n",
      "0        2010  292859.62\n",
      "1        2011  291117.47\n",
      "2        2012  293683.19\n",
      "3        2013  295962.27\n",
      "4        2014  290852.27\n",
      "5        2015  288770.30\n",
      "6        2016  290555.07\n",
      "7        2017  292676.79\n"
     ]
    }
   ],
   "source": [
    "# 4. What is the average price of a home for each year the home was built that have 3 bedrooms and 3 bathrooms rounded to two decimal places?\n",
    "\n",
    "# Create a Pandas DataFrame from the CSV file\n",
    "home_sale_df = pd.read_csv(\"https://2u-data-curriculum-team.s3.amazonaws.com/dataviz-classroom/v1.2/22-big-data/home_sales_revised.csv\")\n",
    "\n",
    "# Filter the DataFrame for homes with 3 bedrooms and 3 bathrooms\n",
    "filtered_df = home_sale_df[(home_sale_df['bedrooms'] == 3) & (home_sale_df['bathrooms'] == 3)]\n",
    "\n",
    "# Calculate the average price for each year the home was built\n",
    "average_price_by_year = filtered_df.groupby('date_built')['price'].mean().round(2).reset_index()\n",
    "\n",
    "print(average_price_by_year)\n"
   ]
  },
  {
   "cell_type": "code",
   "execution_count": 6,
   "metadata": {
    "colab": {
     "base_uri": "https://localhost:8080/"
    },
    "id": "Y-Eytz64liDU",
    "outputId": "17119810-56ad-40c3-de5e-c3db57e43bcc"
   },
   "outputs": [
    {
     "name": "stdout",
     "output_type": "stream",
     "text": [
      "   date_built      price\n",
      "0        2010  285010.22\n",
      "1        2011  276553.81\n",
      "2        2012  307539.97\n",
      "3        2013  303676.79\n",
      "4        2014  298264.72\n",
      "5        2015  297609.97\n",
      "6        2016  293965.10\n",
      "7        2017  280317.58\n"
     ]
    }
   ],
   "source": [
    "#  5. What is the average price of a home for each year built that have 3 bedrooms, 3 bathrooms, with two floors,\n",
    "# and are greater than or equal to 2,000 square feet rounded to two decimal places?\n",
    "\n",
    "# Create a Pandas DataFrame from the CSV file\n",
    "home_sale_df = pd.read_csv(\"https://2u-data-curriculum-team.s3.amazonaws.com/dataviz-classroom/v1.2/22-big-data/home_sales_revised.csv\")\n",
    "\n",
    "# Filter the DataFrame for homes with 3 bedrooms, 3 bathrooms, two floors, and are greater than or equal to 2,000 square feet\n",
    "filtered_df = home_sale_df[(home_sale_df['bedrooms'] == 3) &\n",
    "                           (home_sale_df['bathrooms'] == 3) &\n",
    "                           (home_sale_df['floors'] == 2) &\n",
    "                           (home_sale_df['sqft_living'] >= 2000)]\n",
    "\n",
    "# Calculate the average price for each year the home was built\n",
    "average_price_by_year = filtered_df.groupby('date_built')['price'].mean().round(2).reset_index()\n",
    "print(average_price_by_year)"
   ]
  },
  {
   "cell_type": "code",
   "execution_count": 7,
   "metadata": {
    "colab": {
     "base_uri": "https://localhost:8080/"
    },
    "id": "GUrfgOX1pCRd",
    "outputId": "17c25774-855e-4290-a4bd-a04902bdc13a"
   },
   "outputs": [
    {
     "name": "stdout",
     "output_type": "stream",
     "text": [
      "Average View Rating for Homes >= $350,000: 32.26\n",
      "Average View Rating for Homes >= $350,000: 32.26\n",
      "--- 0.0 seconds ---\n"
     ]
    }
   ],
   "source": [
    "# 6. What is the \"view\" rating for the average price of a home, rounded to two decimal places, where the homes are greater than\n",
    "# or equal to $350,000? Although this is a small dataset, determine the run time for this query.\n",
    "\n",
    "import pandas as pd\n",
    "import time\n",
    "\n",
    "# Create a Pandas DataFrame from the CSV file\n",
    "home_sale_df = pd.read_csv(\"https://2u-data-curriculum-team.s3.amazonaws.com/dataviz-classroom/v1.2/22-big-data/home_sales_revised.csv\")\n",
    "\n",
    "# Filter the DataFrame for homes greater than or equal to $350,000\n",
    "filtered_df = home_sale_df[home_sale_df['price'] >= 350000]\n",
    "\n",
    "# Calculate the average \"view\" rating for the filtered homes\n",
    "average_view_rating = filtered_df['view'].mean().round(2)\n",
    "\n",
    "print(\"Average View Rating for Homes >= $350,000:\", average_view_rating)\n",
    "\n",
    "# Calculate and print the run time for this query\n",
    "start_time = time.time()\n",
    "# Perform the query again\n",
    "average_view_rating = filtered_df['view'].mean().round(2)\n",
    "end_time = time.time()\n",
    "\n",
    "print(\"Average View Rating for Homes >= $350,000:\", average_view_rating)\n",
    "print(\"--- %s seconds ---\" % (end_time - start_time))\n"
   ]
  },
  {
   "cell_type": "code",
   "execution_count": null,
   "metadata": {
    "colab": {
     "base_uri": "https://localhost:8080/"
    },
    "id": "KAhk3ZD2tFy8",
    "outputId": "0a8f132d-40a8-4bd4-b5f2-2847e98427f5"
   },
   "outputs": [],
   "source": [
    "# 7. Cache the the temporary table home_sales.\n",
    "import requests\n",
    "import pandas as pd\n",
    "\n",
    "# Download the CSV file using the requests library\n",
    "url = \"https://2u-data-curriculum-team.s3.amazonaws.com/dataviz-classroom/v1.2/22-big-data/home_sales_revised.csv\"\n",
    "response = requests.get(url)\n",
    "\n",
    "# Save the content to a local file\n",
    "with open(\"home_sales_revised.csv\", \"wb\") as f:\n",
    "    f.write(response.content)\n",
    "\n",
    "# Read the CSV file into a pandas DataFrame\n",
    "home_sales_df = pd.read_csv(\"home_sales_revised.csv\")\n",
    "\n",
    "# Create a Spark DataFrame from the pandas DataFrame\n",
    "spark_home_sales_df = spark.createDataFrame(home_sales_df)\n",
    "\n",
    "# Register the DataFrame as a temporary view\n",
    "spark_home_sales_df.createOrReplaceTempView(\"home_sales\")\n",
    "\n",
    "# Cache the temporary table\n",
    "spark.catalog.cacheTable(\"home_sales\")\n"
   ]
  },
  {
   "cell_type": "code",
   "execution_count": null,
   "metadata": {
    "colab": {
     "base_uri": "https://localhost:8080/"
    },
    "id": "4opVhbvxtL-i",
    "outputId": "38ec8487-795f-4550-b50c-fcc6f2b7c769"
   },
   "outputs": [],
   "source": [
    "# 8. Check if the table is cached.\n",
    "# Check if the table is cached\n",
    "is_cached = spark.catalog.isCached('home_sales')\n",
    "\n",
    "# Print the result\n",
    "print(is_cached)"
   ]
  },
  {
   "cell_type": "code",
   "execution_count": null,
   "metadata": {
    "colab": {
     "base_uri": "https://localhost:8080/"
    },
    "id": "5GnL46lwTSEk",
    "outputId": "09a16c73-194d-4371-95d1-ee64fe83b91c"
   },
   "outputs": [],
   "source": [
    "# 9. Using the cached data, run the query that filters out the view ratings with average price \n",
    "#  greater than or equal to $350,000. Determine the runtime and compare it to uncached runtime.\n",
    "\n",
    "#  greater than or equal to $350,000. Determine the runtime and compare it to uncached runtime.\n",
    "# 1. Cache the table 'home_sales' (if not already cached)\n",
    "spark.catalog.cacheTable('home_sales')\n",
    "\n",
    "# 2. Run the query using the cached data and measure the runtime\n",
    "start_time_cached = time.time()\n",
    "\n",
    "# Write the SQL query to filter out the view ratings with average price greater than or equal to $350,000\n",
    "query_cached = \"\"\"\n",
    "SELECT view, ROUND(AVG(Price), 2) AS Average_Price\n",
    "FROM home_sales\n",
    "WHERE Price >= 350000\n",
    "GROUP BY view\n",
    "\"\"\"\n",
    "# Execute the SQL query using the cached data and get the result as a DataFrame\n",
    "result_cached = spark.sql(query_cached)\n",
    "\n",
    "# Show the result\n",
    "result_cached.show()\n",
    "\n",
    "# Measure the runtime\n",
    "print(\"--- Runtime with cached data: %s seconds ---\" % (time.time() - start_time_cached))\n",
    "\n",
    "# 3. Run the same query again without using the cached data and measure the runtime\n",
    "start_time_uncached = time.time()\n",
    "\n",
    "# Execute the SQL query without using the cached data and get the result as a DataFrame\n",
    "result_uncached = spark.sql(query_cached)\n",
    "\n",
    "# Show the result\n",
    "result_uncached.show()\n",
    "\n",
    "# Measure the runtime\n",
    "print(\"--- Runtime without cached data: %s seconds ---\" % (time.time() - start_time_uncach"
   ]
  },
  {
   "cell_type": "code",
   "execution_count": null,
   "metadata": {
    "id": "Qm12WN9isHBR"
   },
   "outputs": [],
   "source": [
    "# 10. Partition by the \"date_built\" field on the formatted parquet home sales data \n",
    "# Convert the Pandas DataFrame to a Spark DataFrame\n",
    "spark_home_sales_df = spark.createDataFrame(home_sales_df)\n",
    "\n",
    "# Write the Spark DataFrame to Parquet format partitioned by the \"date_built\" field\n",
    "spark_home_sales_df.write.partitionBy(\"date_built\").parquet(\"/path/to/parquet_files\")"
   ]
  },
  {
   "cell_type": "code",
   "execution_count": null,
   "metadata": {
    "id": "AZ7BgY61sRqY"
   },
   "outputs": [],
   "source": [
    "# 11. Read the formatted parquet data.\n",
    "# Read the Parquet formatted data from the specified location\n",
    "parquet_data = spark.read.parquet(\"/path/to/parquet_files\")\n",
    "\n",
    "# Show the contents of the DataFrame\n",
    "parquet_data.show()"
   ]
  },
  {
   "cell_type": "code",
   "execution_count": null,
   "metadata": {
    "id": "J6MJkHfvVcvh"
   },
   "outputs": [],
   "source": [
    "# 12. Create a temporary table for the parquet data.\n",
    "query = \"SELECT * FROM parquet_data_temp WHERE bedrooms = 3\"\n",
    "result = spark.sql(query)\n",
    "result.show()"
   ]
  },
  {
   "cell_type": "code",
   "execution_count": null,
   "metadata": {
    "colab": {
     "base_uri": "https://localhost:8080/"
    },
    "id": "G_Vhb52rU1Sn",
    "outputId": "a0b8d0c4-55ed-4c6c-bfd8-4c8c5334838e"
   },
   "outputs": [],
   "source": [
    "# 13. Run the query that filters out the view ratings with average price of greater than or eqaul to $350,000 \n",
    "# with the parquet DataFrame. Round your average to two decimal places. \n",
    "# Determine the runtime and compare it to the cached version. \n",
    "\n",
    "# Read the parquet formatted data into a DataFrame\n",
    "parquet_data_df = spark.read.parquet(\"/path/to/parquet_files\")\n",
    "\n",
    "# Create a temporary view for the parquet DataFrame\n",
    "parquet_data_df.createOrReplaceTempView(\"parquet_data_temp\")\n",
    "\n",
    "# Write the SQL query to filter out view ratings with average price >= $350,000\n",
    "query = \"\"\"\n",
    "SELECT view, ROUND(AVG(price), 2) AS average_price\n",
    "FROM parquet_data_temp\n",
    "GROUP BY view\n",
    "HAVING AVG(price) >= 350000\n",
    "\"\"\"\n",
    "\n",
    "# Execute the SQL query and calculate the runtime\n",
    "start_time = time.time()\n",
    "result = spark.sql(query)\n",
    "print(\"--- %s seconds ---\" % (time.time() - start_time))\n",
    "\n",
    "# Show the result\n",
    "result.show()"
   ]
  },
  {
   "cell_type": "code",
   "execution_count": null,
   "metadata": {
    "colab": {
     "base_uri": "https://localhost:8080/"
    },
    "id": "hjjYzQGjtbq8",
    "outputId": "830549fd-bb41-451b-9183-5ebf6e3e470b"
   },
   "outputs": [],
   "source": [
    "# 14. Uncache the home_sales temporary table.\n",
    "# Uncache the temporary table\n",
    "spark.catalog.uncacheTable(\"home_sales\")\n"
   ]
  },
  {
   "cell_type": "code",
   "execution_count": null,
   "metadata": {
    "colab": {
     "base_uri": "https://localhost:8080/"
    },
    "id": "Sy9NBvO7tlmm",
    "outputId": "be73e0e3-5e85-4794-aad9-025fb6fa84a7"
   },
   "outputs": [],
   "source": [
    "# 15. Check if the home_sales is no longer cached\n",
    "# Check if the home_sales table is cached\n",
    "is_cached = spark.catalog.isCached(\"home_sales\")\n",
    "\n",
    "# Print the result\n",
    "print(\"Is home_sales cached?\", is_cached)\n"
   ]
  }
 ],
 "metadata": {
  "colab": {
   "collapsed_sections": [],
   "name": "Copy of Home_Sales_solution.ipynb",
   "provenance": []
  },
  "kernelspec": {
   "display_name": "Python 3 (ipykernel)",
   "language": "python",
   "name": "python3"
  },
  "language_info": {
   "codemirror_mode": {
    "name": "ipython",
    "version": 3
   },
   "file_extension": ".py",
   "mimetype": "text/x-python",
   "name": "python",
   "nbconvert_exporter": "python",
   "pygments_lexer": "ipython3",
   "version": "3.9.13"
  },
  "nteract": {
   "version": "0.28.0"
  }
 },
 "nbformat": 4,
 "nbformat_minor": 1
}
