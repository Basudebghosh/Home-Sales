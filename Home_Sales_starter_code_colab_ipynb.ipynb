{
  "cells": [
    {
      "cell_type": "code",
      "execution_count": 24,
      "metadata": {
        "colab": {
          "base_uri": "https://localhost:8080/"
        },
        "id": "a_KW73O2e3dw",
        "outputId": "f97e665d-fb70-4231-d87b-05abde9f9250"
      },
      "outputs": [
        {
          "output_type": "stream",
          "name": "stdout",
          "text": [
            "\r0% [Working]\r            \rHit:1 https://cloud.r-project.org/bin/linux/ubuntu jammy-cran40/ InRelease\n",
            "Hit:2 https://developer.download.nvidia.com/compute/cuda/repos/ubuntu2204/x86_64  InRelease\n",
            "Get:3 http://security.ubuntu.com/ubuntu jammy-security InRelease [110 kB]\n",
            "Hit:4 http://archive.ubuntu.com/ubuntu jammy InRelease\n",
            "Get:5 http://archive.ubuntu.com/ubuntu jammy-updates InRelease [119 kB]\n",
            "Hit:6 https://ppa.launchpadcontent.net/c2d4u.team/c2d4u4.0+/ubuntu jammy InRelease\n",
            "Get:7 http://archive.ubuntu.com/ubuntu jammy-backports InRelease [108 kB]\n",
            "Hit:8 https://ppa.launchpadcontent.net/deadsnakes/ppa/ubuntu jammy InRelease\n",
            "Hit:9 https://ppa.launchpadcontent.net/graphics-drivers/ppa/ubuntu jammy InRelease\n",
            "Hit:10 https://ppa.launchpadcontent.net/ubuntugis/ppa/ubuntu jammy InRelease\n",
            "Fetched 337 kB in 4s (90.4 kB/s)\n",
            "Reading package lists... Done\n"
          ]
        }
      ],
      "source": [
        "import os\n",
        "# Find the latest version of spark 3.x  from http://www.apache.org/dist/spark/ and enter as the spark version\n",
        "# For example:\n",
        "# spark_version = 'spark-3.4.0'\n",
        "spark_version = 'spark-3.4.0'\n",
        "os.environ['SPARK_VERSION']=spark_version\n",
        "\n",
        "# Install Spark and Java\n",
        "!apt-get update\n",
        "!apt-get install openjdk-11-jdk-headless -qq > /dev/null\n",
        "!wget -q http://www.apache.org/dist/spark/$SPARK_VERSION/$SPARK_VERSION-bin-hadoop3.tgz\n",
        "!tar xf $SPARK_VERSION-bin-hadoop3.tgz\n",
        "!pip install -q findspark\n",
        "\n",
        "# Set Environment Variables\n",
        "os.environ[\"JAVA_HOME\"] = \"/usr/lib/jvm/java-11-openjdk-amd64\"\n",
        "os.environ[\"SPARK_HOME\"] = f\"/content/{spark_version}-bin-hadoop3\"\n",
        "\n",
        "# Start a SparkSession\n",
        "import findspark\n",
        "findspark.init()"
      ]
    },
    {
      "cell_type": "code",
      "execution_count": 25,
      "metadata": {
        "id": "2XbWNf1Te5fM"
      },
      "outputs": [],
      "source": [
        "# Import packages\n",
        "from pyspark.sql import SparkSession\n",
        "import time\n",
        "\n",
        "# Create a SparkSession\n",
        "spark = SparkSession.builder.appName(\"SparkSQL\").getOrCreate()"
      ]
    },
    {
      "cell_type": "code",
      "execution_count": 26,
      "metadata": {
        "id": "wOJqxG_RPSwp"
      },
      "outputs": [],
      "source": [
        "# 1. Read in the AWS S3 bucket into a DataFrame.\n",
        "from pyspark import SparkFiles\n",
        "import pandas as pd\n",
        "url = \"https://2u-data-curriculum-team.s3.amazonaws.com/dataviz-classroom/v1.2/22-big-data/home_sales_revised.csv\"\n"
      ]
    },
    {
      "cell_type": "code",
      "execution_count": 27,
      "metadata": {
        "id": "RoljcJ7WPpnm",
        "colab": {
          "base_uri": "https://localhost:8080/",
          "height": 206
        },
        "outputId": "b5902060-4c6b-4bfb-8ab0-c068d655c573"
      },
      "outputs": [
        {
          "output_type": "execute_result",
          "data": {
            "text/plain": [
              "                                     id        date  date_built   price  \\\n",
              "0  f8a53099-ba1c-47d6-9c31-7398aa8f6089  2022-04-08        2016  936923   \n",
              "1  7530a2d8-1ae3-4517-9f4a-befe060c4353  2021-06-13        2013  379628   \n",
              "2  43de979c-0bf0-4c9f-85ef-96dc27b258d5  2019-04-12        2014  417866   \n",
              "3  b672c137-b88c-48bf-9f18-d0a4ac62fb8b  2019-10-16        2016  239895   \n",
              "4  e0726d4d-d595-4074-8283-4139a54d0d63  2022-01-08        2017  424418   \n",
              "\n",
              "   bedrooms  bathrooms  sqft_living  sqft_lot  floors  waterfront  view  \n",
              "0         4          3         3167     11733       2           1    76  \n",
              "1         2          2         2235     14384       1           0    23  \n",
              "2         2          2         2127     10575       2           0     0  \n",
              "3         2          2         1631     11149       2           0     0  \n",
              "4         3          2         2249     13878       2           0     4  "
            ],
            "text/html": [
              "\n",
              "\n",
              "  <div id=\"df-3a0e364f-f133-4b0a-ad7e-8b5a21f245db\">\n",
              "    <div class=\"colab-df-container\">\n",
              "      <div>\n",
              "<style scoped>\n",
              "    .dataframe tbody tr th:only-of-type {\n",
              "        vertical-align: middle;\n",
              "    }\n",
              "\n",
              "    .dataframe tbody tr th {\n",
              "        vertical-align: top;\n",
              "    }\n",
              "\n",
              "    .dataframe thead th {\n",
              "        text-align: right;\n",
              "    }\n",
              "</style>\n",
              "<table border=\"1\" class=\"dataframe\">\n",
              "  <thead>\n",
              "    <tr style=\"text-align: right;\">\n",
              "      <th></th>\n",
              "      <th>id</th>\n",
              "      <th>date</th>\n",
              "      <th>date_built</th>\n",
              "      <th>price</th>\n",
              "      <th>bedrooms</th>\n",
              "      <th>bathrooms</th>\n",
              "      <th>sqft_living</th>\n",
              "      <th>sqft_lot</th>\n",
              "      <th>floors</th>\n",
              "      <th>waterfront</th>\n",
              "      <th>view</th>\n",
              "    </tr>\n",
              "  </thead>\n",
              "  <tbody>\n",
              "    <tr>\n",
              "      <th>0</th>\n",
              "      <td>f8a53099-ba1c-47d6-9c31-7398aa8f6089</td>\n",
              "      <td>2022-04-08</td>\n",
              "      <td>2016</td>\n",
              "      <td>936923</td>\n",
              "      <td>4</td>\n",
              "      <td>3</td>\n",
              "      <td>3167</td>\n",
              "      <td>11733</td>\n",
              "      <td>2</td>\n",
              "      <td>1</td>\n",
              "      <td>76</td>\n",
              "    </tr>\n",
              "    <tr>\n",
              "      <th>1</th>\n",
              "      <td>7530a2d8-1ae3-4517-9f4a-befe060c4353</td>\n",
              "      <td>2021-06-13</td>\n",
              "      <td>2013</td>\n",
              "      <td>379628</td>\n",
              "      <td>2</td>\n",
              "      <td>2</td>\n",
              "      <td>2235</td>\n",
              "      <td>14384</td>\n",
              "      <td>1</td>\n",
              "      <td>0</td>\n",
              "      <td>23</td>\n",
              "    </tr>\n",
              "    <tr>\n",
              "      <th>2</th>\n",
              "      <td>43de979c-0bf0-4c9f-85ef-96dc27b258d5</td>\n",
              "      <td>2019-04-12</td>\n",
              "      <td>2014</td>\n",
              "      <td>417866</td>\n",
              "      <td>2</td>\n",
              "      <td>2</td>\n",
              "      <td>2127</td>\n",
              "      <td>10575</td>\n",
              "      <td>2</td>\n",
              "      <td>0</td>\n",
              "      <td>0</td>\n",
              "    </tr>\n",
              "    <tr>\n",
              "      <th>3</th>\n",
              "      <td>b672c137-b88c-48bf-9f18-d0a4ac62fb8b</td>\n",
              "      <td>2019-10-16</td>\n",
              "      <td>2016</td>\n",
              "      <td>239895</td>\n",
              "      <td>2</td>\n",
              "      <td>2</td>\n",
              "      <td>1631</td>\n",
              "      <td>11149</td>\n",
              "      <td>2</td>\n",
              "      <td>0</td>\n",
              "      <td>0</td>\n",
              "    </tr>\n",
              "    <tr>\n",
              "      <th>4</th>\n",
              "      <td>e0726d4d-d595-4074-8283-4139a54d0d63</td>\n",
              "      <td>2022-01-08</td>\n",
              "      <td>2017</td>\n",
              "      <td>424418</td>\n",
              "      <td>3</td>\n",
              "      <td>2</td>\n",
              "      <td>2249</td>\n",
              "      <td>13878</td>\n",
              "      <td>2</td>\n",
              "      <td>0</td>\n",
              "      <td>4</td>\n",
              "    </tr>\n",
              "  </tbody>\n",
              "</table>\n",
              "</div>\n",
              "      <button class=\"colab-df-convert\" onclick=\"convertToInteractive('df-3a0e364f-f133-4b0a-ad7e-8b5a21f245db')\"\n",
              "              title=\"Convert this dataframe to an interactive table.\"\n",
              "              style=\"display:none;\">\n",
              "\n",
              "  <svg xmlns=\"http://www.w3.org/2000/svg\" height=\"24px\"viewBox=\"0 0 24 24\"\n",
              "       width=\"24px\">\n",
              "    <path d=\"M0 0h24v24H0V0z\" fill=\"none\"/>\n",
              "    <path d=\"M18.56 5.44l.94 2.06.94-2.06 2.06-.94-2.06-.94-.94-2.06-.94 2.06-2.06.94zm-11 1L8.5 8.5l.94-2.06 2.06-.94-2.06-.94L8.5 2.5l-.94 2.06-2.06.94zm10 10l.94 2.06.94-2.06 2.06-.94-2.06-.94-.94-2.06-.94 2.06-2.06.94z\"/><path d=\"M17.41 7.96l-1.37-1.37c-.4-.4-.92-.59-1.43-.59-.52 0-1.04.2-1.43.59L10.3 9.45l-7.72 7.72c-.78.78-.78 2.05 0 2.83L4 21.41c.39.39.9.59 1.41.59.51 0 1.02-.2 1.41-.59l7.78-7.78 2.81-2.81c.8-.78.8-2.07 0-2.86zM5.41 20L4 18.59l7.72-7.72 1.47 1.35L5.41 20z\"/>\n",
              "  </svg>\n",
              "      </button>\n",
              "\n",
              "\n",
              "\n",
              "    <div id=\"df-13ae91f5-f341-4ef4-ae53-bfa855917be0\">\n",
              "      <button class=\"colab-df-quickchart\" onclick=\"quickchart('df-13ae91f5-f341-4ef4-ae53-bfa855917be0')\"\n",
              "              title=\"Suggest charts.\"\n",
              "              style=\"display:none;\">\n",
              "\n",
              "<svg xmlns=\"http://www.w3.org/2000/svg\" height=\"24px\"viewBox=\"0 0 24 24\"\n",
              "     width=\"24px\">\n",
              "    <g>\n",
              "        <path d=\"M19 3H5c-1.1 0-2 .9-2 2v14c0 1.1.9 2 2 2h14c1.1 0 2-.9 2-2V5c0-1.1-.9-2-2-2zM9 17H7v-7h2v7zm4 0h-2V7h2v10zm4 0h-2v-4h2v4z\"/>\n",
              "    </g>\n",
              "</svg>\n",
              "      </button>\n",
              "    </div>\n",
              "\n",
              "<style>\n",
              "  .colab-df-quickchart {\n",
              "    background-color: #E8F0FE;\n",
              "    border: none;\n",
              "    border-radius: 50%;\n",
              "    cursor: pointer;\n",
              "    display: none;\n",
              "    fill: #1967D2;\n",
              "    height: 32px;\n",
              "    padding: 0 0 0 0;\n",
              "    width: 32px;\n",
              "  }\n",
              "\n",
              "  .colab-df-quickchart:hover {\n",
              "    background-color: #E2EBFA;\n",
              "    box-shadow: 0px 1px 2px rgba(60, 64, 67, 0.3), 0px 1px 3px 1px rgba(60, 64, 67, 0.15);\n",
              "    fill: #174EA6;\n",
              "  }\n",
              "\n",
              "  [theme=dark] .colab-df-quickchart {\n",
              "    background-color: #3B4455;\n",
              "    fill: #D2E3FC;\n",
              "  }\n",
              "\n",
              "  [theme=dark] .colab-df-quickchart:hover {\n",
              "    background-color: #434B5C;\n",
              "    box-shadow: 0px 1px 3px 1px rgba(0, 0, 0, 0.15);\n",
              "    filter: drop-shadow(0px 1px 2px rgba(0, 0, 0, 0.3));\n",
              "    fill: #FFFFFF;\n",
              "  }\n",
              "</style>\n",
              "\n",
              "    <script>\n",
              "      async function quickchart(key) {\n",
              "        const containerElement = document.querySelector('#' + key);\n",
              "        const charts = await google.colab.kernel.invokeFunction(\n",
              "            'suggestCharts', [key], {});\n",
              "      }\n",
              "    </script>\n",
              "\n",
              "      <script>\n",
              "\n",
              "function displayQuickchartButton(domScope) {\n",
              "  let quickchartButtonEl =\n",
              "    domScope.querySelector('#df-13ae91f5-f341-4ef4-ae53-bfa855917be0 button.colab-df-quickchart');\n",
              "  quickchartButtonEl.style.display =\n",
              "    google.colab.kernel.accessAllowed ? 'block' : 'none';\n",
              "}\n",
              "\n",
              "        displayQuickchartButton(document);\n",
              "      </script>\n",
              "      <style>\n",
              "    .colab-df-container {\n",
              "      display:flex;\n",
              "      flex-wrap:wrap;\n",
              "      gap: 12px;\n",
              "    }\n",
              "\n",
              "    .colab-df-convert {\n",
              "      background-color: #E8F0FE;\n",
              "      border: none;\n",
              "      border-radius: 50%;\n",
              "      cursor: pointer;\n",
              "      display: none;\n",
              "      fill: #1967D2;\n",
              "      height: 32px;\n",
              "      padding: 0 0 0 0;\n",
              "      width: 32px;\n",
              "    }\n",
              "\n",
              "    .colab-df-convert:hover {\n",
              "      background-color: #E2EBFA;\n",
              "      box-shadow: 0px 1px 2px rgba(60, 64, 67, 0.3), 0px 1px 3px 1px rgba(60, 64, 67, 0.15);\n",
              "      fill: #174EA6;\n",
              "    }\n",
              "\n",
              "    [theme=dark] .colab-df-convert {\n",
              "      background-color: #3B4455;\n",
              "      fill: #D2E3FC;\n",
              "    }\n",
              "\n",
              "    [theme=dark] .colab-df-convert:hover {\n",
              "      background-color: #434B5C;\n",
              "      box-shadow: 0px 1px 3px 1px rgba(0, 0, 0, 0.15);\n",
              "      filter: drop-shadow(0px 1px 2px rgba(0, 0, 0, 0.3));\n",
              "      fill: #FFFFFF;\n",
              "    }\n",
              "  </style>\n",
              "\n",
              "      <script>\n",
              "        const buttonEl =\n",
              "          document.querySelector('#df-3a0e364f-f133-4b0a-ad7e-8b5a21f245db button.colab-df-convert');\n",
              "        buttonEl.style.display =\n",
              "          google.colab.kernel.accessAllowed ? 'block' : 'none';\n",
              "\n",
              "        async function convertToInteractive(key) {\n",
              "          const element = document.querySelector('#df-3a0e364f-f133-4b0a-ad7e-8b5a21f245db');\n",
              "          const dataTable =\n",
              "            await google.colab.kernel.invokeFunction('convertToInteractive',\n",
              "                                                     [key], {});\n",
              "          if (!dataTable) return;\n",
              "\n",
              "          const docLinkHtml = 'Like what you see? Visit the ' +\n",
              "            '<a target=\"_blank\" href=https://colab.research.google.com/notebooks/data_table.ipynb>data table notebook</a>'\n",
              "            + ' to learn more about interactive tables.';\n",
              "          element.innerHTML = '';\n",
              "          dataTable['output_type'] = 'display_data';\n",
              "          await google.colab.output.renderOutput(dataTable, element);\n",
              "          const docLink = document.createElement('div');\n",
              "          docLink.innerHTML = docLinkHtml;\n",
              "          element.appendChild(docLink);\n",
              "        }\n",
              "      </script>\n",
              "    </div>\n",
              "  </div>\n"
            ]
          },
          "metadata": {},
          "execution_count": 27
        }
      ],
      "source": [
        "  # 2. Create a temporary view of the DataFrame.\n",
        "  home_sale_df = pd.read_csv(\"https://2u-data-curriculum-team.s3.amazonaws.com/dataviz-classroom/v1.2/22-big-data/home_sales_revised.csv\")\n",
        "  home_sale_df.head()\n"
      ]
    },
    {
      "cell_type": "code",
      "execution_count": 28,
      "metadata": {
        "id": "L6fkwOeOmqvq",
        "colab": {
          "base_uri": "https://localhost:8080/"
        },
        "outputId": "df063b6c-99f5-4672-c854-4d4fb10eec77"
      },
      "outputs": [
        {
          "output_type": "stream",
          "name": "stdout",
          "text": [
            "            date      price\n",
            "0     2019-01-01  365088.00\n",
            "1     2019-01-02  271644.29\n",
            "2     2019-01-03  381218.86\n",
            "3     2019-01-04  359586.14\n",
            "4     2019-01-05  323683.57\n",
            "...          ...        ...\n",
            "1256  2022-06-10  329435.69\n",
            "1257  2022-06-11  301498.07\n",
            "1258  2022-06-12  211683.20\n",
            "1259  2022-06-13  329998.88\n",
            "1260  2022-06-14  222403.00\n",
            "\n",
            "[1261 rows x 2 columns]\n"
          ]
        }
      ],
      "source": [
        "# 3. What is the average price for a four bedroom house sold in each year rounded to two decimal places?\n",
        "import pandas as pd\n",
        "\n",
        "import pandas as pd\n",
        "\n",
        "# Create a Pandas DataFrame from the CSV file\n",
        "home_sale_df = pd.read_csv(\"https://2u-data-curriculum-team.s3.amazonaws.com/dataviz-classroom/v1.2/22-big-data/home_sales_revised.csv\")\n",
        "\n",
        "# Assuming 'date' is the correct column name representing the year\n",
        "average_price_by_year = home_sale_df[home_sale_df['bedrooms'] == 4].groupby('date')['price'].mean().round(2).reset_index()\n",
        "\n",
        "print(average_price_by_year)\n",
        "\n",
        "\n"
      ]
    },
    {
      "cell_type": "code",
      "execution_count": 29,
      "metadata": {
        "id": "l8p_tUS8h8it",
        "colab": {
          "base_uri": "https://localhost:8080/"
        },
        "outputId": "cfac3322-396a-4250-d5f0-e0e629fa4278"
      },
      "outputs": [
        {
          "output_type": "stream",
          "name": "stdout",
          "text": [
            "   date_built      price\n",
            "0        2010  292859.62\n",
            "1        2011  291117.47\n",
            "2        2012  293683.19\n",
            "3        2013  295962.27\n",
            "4        2014  290852.27\n",
            "5        2015  288770.30\n",
            "6        2016  290555.07\n",
            "7        2017  292676.79\n"
          ]
        }
      ],
      "source": [
        "# 4. What is the average price of a home for each year the home was built that have 3 bedrooms and 3 bathrooms rounded to two decimal places?\n",
        "import pandas as pd\n",
        "\n",
        "# Create a Pandas DataFrame from the CSV file\n",
        "home_sale_df = pd.read_csv(\"https://2u-data-curriculum-team.s3.amazonaws.com/dataviz-classroom/v1.2/22-big-data/home_sales_revised.csv\")\n",
        "\n",
        "# Filter the DataFrame for homes with 3 bedrooms and 3 bathrooms\n",
        "filtered_df = home_sale_df[(home_sale_df['bedrooms'] == 3) & (home_sale_df['bathrooms'] == 3)]\n",
        "\n",
        "# Calculate the average price for each year the home was built\n",
        "average_price_by_year = filtered_df.groupby('date_built')['price'].mean().round(2).reset_index()\n",
        "\n",
        "print(average_price_by_year)\n",
        "\n"
      ]
    },
    {
      "cell_type": "code",
      "execution_count": 30,
      "metadata": {
        "id": "Y-Eytz64liDU",
        "colab": {
          "base_uri": "https://localhost:8080/"
        },
        "outputId": "32e0b311-3d01-448e-9c89-4781d79d2534"
      },
      "outputs": [
        {
          "output_type": "stream",
          "name": "stdout",
          "text": [
            "   date_built      price\n",
            "0        2010  285010.22\n",
            "1        2011  276553.81\n",
            "2        2012  307539.97\n",
            "3        2013  303676.79\n",
            "4        2014  298264.72\n",
            "5        2015  297609.97\n",
            "6        2016  293965.10\n",
            "7        2017  280317.58\n"
          ]
        }
      ],
      "source": [
        "# 5. What is the average price of a home for each year built that have 3 bedrooms, 3 bathrooms, with two floors,\n",
        "# and are greater than or equal to 2,000 square feet rounded to two decimal places?\n",
        "\n",
        "import pandas as pd\n",
        "\n",
        "# Create a Pandas DataFrame from the CSV file\n",
        "home_sale_df = pd.read_csv(\"https://2u-data-curriculum-team.s3.amazonaws.com/dataviz-classroom/v1.2/22-big-data/home_sales_revised.csv\")\n",
        "\n",
        "# Filter the DataFrame for homes with 3 bedrooms, 3 bathrooms, two floors, and are greater than or equal to 2,000 square feet\n",
        "filtered_df = home_sale_df[(home_sale_df['bedrooms'] == 3) &\n",
        "                           (home_sale_df['bathrooms'] == 3) &\n",
        "                           (home_sale_df['floors'] == 2) &\n",
        "                           (home_sale_df['sqft_living'] >= 2000)]\n",
        "\n",
        "# Calculate the average price for each year the home was built\n",
        "average_price_by_year = filtered_df.groupby('date_built')['price'].mean().round(2).reset_index()\n",
        "\n",
        "print(average_price_by_year)\n"
      ]
    },
    {
      "cell_type": "code",
      "execution_count": 31,
      "metadata": {
        "colab": {
          "base_uri": "https://localhost:8080/"
        },
        "id": "GUrfgOX1pCRd",
        "outputId": "1fc056cd-0f9b-4851-ba00-5612573eb2b3"
      },
      "outputs": [
        {
          "output_type": "stream",
          "name": "stdout",
          "text": [
            "Average View Rating for Homes >= $350,000: 32.26\n",
            "Average View Rating for Homes >= $350,000: 32.26\n",
            "--- 0.0004436969757080078 seconds ---\n"
          ]
        }
      ],
      "source": [
        "# 6. What is the \"view\" rating for the average price of a home, rounded to two decimal places, where the homes are greater than\n",
        "# or equal to $350,000? Although this is a small dataset, determine the run time for this query.\n",
        "import pandas as pd\n",
        "import time\n",
        "\n",
        "# Create a Pandas DataFrame from the CSV file\n",
        "home_sale_df = pd.read_csv(\"https://2u-data-curriculum-team.s3.amazonaws.com/dataviz-classroom/v1.2/22-big-data/home_sales_revised.csv\")\n",
        "\n",
        "# Filter the DataFrame for homes greater than or equal to $350,000\n",
        "filtered_df = home_sale_df[home_sale_df['price'] >= 350000]\n",
        "\n",
        "# Calculate the average \"view\" rating for the filtered homes\n",
        "average_view_rating = filtered_df['view'].mean().round(2)\n",
        "\n",
        "print(\"Average View Rating for Homes >= $350,000:\", average_view_rating)\n",
        "\n",
        "# Calculate and print the run time for this query\n",
        "start_time = time.time()\n",
        "# Perform the query again\n",
        "average_view_rating = filtered_df['view'].mean().round(2)\n",
        "end_time = time.time()\n",
        "\n",
        "print(\"Average View Rating for Homes >= $350,000:\", average_view_rating)\n",
        "print(\"--- %s seconds ---\" % (end_time - start_time))\n"
      ]
    },
    {
      "cell_type": "code",
      "execution_count": 32,
      "metadata": {
        "id": "KAhk3ZD2tFy8"
      },
      "outputs": [],
      "source": [
        "# 7. Cache the the temporary table home_sales.\n",
        "import requests\n",
        "import pandas as pd\n",
        "\n",
        "# Download the CSV file using the requests library\n",
        "url = \"https://2u-data-curriculum-team.s3.amazonaws.com/dataviz-classroom/v1.2/22-big-data/home_sales_revised.csv\"\n",
        "response = requests.get(url)\n",
        "\n",
        "# Save the content to a local file\n",
        "with open(\"home_sales_revised.csv\", \"wb\") as f:\n",
        "    f.write(response.content)\n",
        "\n",
        "# Read the CSV file into a pandas DataFrame\n",
        "home_sales_df = pd.read_csv(\"home_sales_revised.csv\")\n",
        "\n",
        "# Create a Spark DataFrame from the pandas DataFrame\n",
        "spark_home_sales_df = spark.createDataFrame(home_sales_df)\n",
        "\n",
        "# Register the DataFrame as a temporary view\n",
        "spark_home_sales_df.createOrReplaceTempView(\"home_sales\")\n",
        "\n",
        "# Cache the temporary table\n",
        "spark.catalog.cacheTable(\"home_sales\")\n",
        "\n",
        "\n"
      ]
    },
    {
      "cell_type": "code",
      "execution_count": 33,
      "metadata": {
        "id": "4opVhbvxtL-i",
        "colab": {
          "base_uri": "https://localhost:8080/"
        },
        "outputId": "c20af780-e4f2-4b02-85fd-fb5bd3c8431c"
      },
      "outputs": [
        {
          "output_type": "stream",
          "name": "stdout",
          "text": [
            "True\n"
          ]
        }
      ],
      "source": [
        "# 8. Check if the table is cached.\n",
        "# Check if the table is cached\n",
        "is_cached = spark.catalog.isCached('home_sales')\n",
        "\n",
        "# Print the result\n",
        "print(is_cached)\n"
      ]
    },
    {
      "cell_type": "code",
      "execution_count": 34,
      "metadata": {
        "colab": {
          "base_uri": "https://localhost:8080/"
        },
        "id": "5GnL46lwTSEk",
        "outputId": "66a1e29f-81e0-496e-e697-146e4499e59d"
      },
      "outputs": [
        {
          "output_type": "stream",
          "name": "stdout",
          "text": [
            "+----+-------------+\n",
            "|view|Average_Price|\n",
            "+----+-------------+\n",
            "|  26|    401506.97|\n",
            "|  29|    397771.65|\n",
            "|  65|    736679.93|\n",
            "|  19|    398953.17|\n",
            "|  54|    798684.82|\n",
            "|   0|    403848.51|\n",
            "|  22|    402022.68|\n",
            "|   7|    403005.77|\n",
            "|  77|   1076205.56|\n",
            "|  34|    401419.75|\n",
            "|  50|     446102.7|\n",
            "|  94|    1033536.2|\n",
            "|  57|     734340.5|\n",
            "|  43|    400929.43|\n",
            "|  32|    399367.72|\n",
            "|  84|   1117233.13|\n",
            "|  31|    399856.95|\n",
            "|  39|    399234.22|\n",
            "|  98|   1053739.33|\n",
            "|  25|    401298.69|\n",
            "+----+-------------+\n",
            "only showing top 20 rows\n",
            "\n",
            "--- Runtime with cached data: 1.4751942157745361 seconds ---\n",
            "+----+-------------+\n",
            "|view|Average_Price|\n",
            "+----+-------------+\n",
            "|  26|    401506.97|\n",
            "|  29|    397771.65|\n",
            "|  65|    736679.93|\n",
            "|  19|    398953.17|\n",
            "|  54|    798684.82|\n",
            "|   0|    403848.51|\n",
            "|  22|    402022.68|\n",
            "|   7|    403005.77|\n",
            "|  77|   1076205.56|\n",
            "|  34|    401419.75|\n",
            "|  50|     446102.7|\n",
            "|  94|    1033536.2|\n",
            "|  57|     734340.5|\n",
            "|  43|    400929.43|\n",
            "|  32|    399367.72|\n",
            "|  84|   1117233.13|\n",
            "|  31|    399856.95|\n",
            "|  39|    399234.22|\n",
            "|  98|   1053739.33|\n",
            "|  25|    401298.69|\n",
            "+----+-------------+\n",
            "only showing top 20 rows\n",
            "\n",
            "--- Runtime without cached data: 0.37769532203674316 seconds ---\n"
          ]
        }
      ],
      "source": [
        "# 9. Using the cached data, run the query that filters out the view ratings with average price\n",
        "#  greater than or equal to $350,000. Determine the runtime and compare it to uncached runtime.\n",
        "# 1. Cache the table 'home_sales' (if not already cached)\n",
        "spark.catalog.cacheTable('home_sales')\n",
        "\n",
        "# 2. Run the query using the cached data and measure the runtime\n",
        "start_time_cached = time.time()\n",
        "\n",
        "# Write the SQL query to filter out the view ratings with average price greater than or equal to $350,000\n",
        "query_cached = \"\"\"\n",
        "SELECT view, ROUND(AVG(Price), 2) AS Average_Price\n",
        "FROM home_sales\n",
        "WHERE Price >= 350000\n",
        "GROUP BY view\n",
        "\"\"\"\n",
        "\n",
        "# Execute the SQL query using the cached data and get the result as a DataFrame\n",
        "result_cached = spark.sql(query_cached)\n",
        "\n",
        "# Show the result\n",
        "result_cached.show()\n",
        "\n",
        "# Measure the runtime\n",
        "print(\"--- Runtime with cached data: %s seconds ---\" % (time.time() - start_time_cached))\n",
        "\n",
        "# 3. Run the same query again without using the cached data and measure the runtime\n",
        "start_time_uncached = time.time()\n",
        "\n",
        "# Execute the SQL query without using the cached data and get the result as a DataFrame\n",
        "result_uncached = spark.sql(query_cached)\n",
        "\n",
        "# Show the result\n",
        "result_uncached.show()\n",
        "\n",
        "# Measure the runtime\n",
        "print(\"--- Runtime without cached data: %s seconds ---\" % (time.time() - start_time_uncached))\n"
      ]
    },
    {
      "cell_type": "code",
      "execution_count": 36,
      "metadata": {
        "id": "Qm12WN9isHBR"
      },
      "outputs": [],
      "source": [
        "# 10. Partition by the \"date_built\" field on the formatted parquet home sales data\n",
        "# Assuming you have the Pandas DataFrame \"home_sales_df\"\n",
        "# Convert the Pandas DataFrame to a Spark DataFrame\n",
        "# Write the Spark DataFrame to Parquet format partitioned by the \"date_built\" field\n",
        "spark_home_sales_df.write.partitionBy(\"date_built\").mode(\"overwrite\").parquet(\"/path/to/parquet_files\")\n",
        "# Write the Spark DataFrame to Parquet format partitioned by the \"date_built\" field\n",
        "\n",
        "spark_home_sales_df.write.partitionBy(\"date_built\").mode(\"overwrite\").parquet(\"/path/to/parquet_files\")\n",
        "\n"
      ]
    },
    {
      "cell_type": "code",
      "execution_count": 37,
      "metadata": {
        "id": "AZ7BgY61sRqY",
        "colab": {
          "base_uri": "https://localhost:8080/"
        },
        "outputId": "0fa69de5-6696-48e9-dec6-34d43b2d7ab1"
      },
      "outputs": [
        {
          "output_type": "stream",
          "name": "stdout",
          "text": [
            "+--------------------+----------+-------+--------+---------+-----------+--------+------+----------+----+----------+\n",
            "|                  id|      date|  price|bedrooms|bathrooms|sqft_living|sqft_lot|floors|waterfront|view|date_built|\n",
            "+--------------------+----------+-------+--------+---------+-----------+--------+------+----------+----+----------+\n",
            "|62c69180-ab61-47c...|2020-07-06| 395216|       4|        2|       2428|    8908|     2|         0|  20|      2017|\n",
            "|273b36f4-26eb-4dd...|2021-04-27| 306223|       2|        2|       2181|   12568|     1|         0|   2|      2017|\n",
            "|e2919f3b-af95-464...|2021-12-12| 152105|       2|        3|       1998|   11236|     2|         0|  21|      2017|\n",
            "|1c0eeb36-0f40-479...|2022-04-07| 150817|       3|        3|       2283|    8650|     2|         0|   8|      2017|\n",
            "|29a05191-0b08-4ac...|2021-03-02|1471564|       8|        3|       5088|   10228|     2|         0|  97|      2017|\n",
            "|db7e9f31-e4fd-407...|2019-12-29| 152809|       3|        3|       1834|   14919|     1|         0|  30|      2017|\n",
            "|65b73cd5-209c-4a3...|2020-11-23| 304874|       4|        3|       1989|   13400|     2|         0|  22|      2017|\n",
            "|3eb8a283-b245-48d...|2019-07-24| 299252|       3|        3|       1844|   11794|     2|         0|  41|      2017|\n",
            "|3527a19f-54a4-40a...|2022-03-18| 240302|       4|        3|       1624|   14287|     2|         0|  43|      2017|\n",
            "|f30ec200-903a-43e...|2019-04-06| 359315|       2|        3|       1874|   10518|     2|         0|   0|      2017|\n",
            "|5fb15149-c0ee-43f...|2022-05-16| 236564|       4|        2|       1722|    8018|     2|         0|  18|      2017|\n",
            "|c2182c7b-dbdd-44c...|2020-08-07| 182892|       4|        3|       1859|   14465|     2|         0|   9|      2017|\n",
            "|ee89f7be-7499-4b6...|2019-11-24| 307088|       2|        2|       1854|   10283|     2|         0|  42|      2017|\n",
            "|85e0b0e3-d49f-4d9...|2022-03-31| 120586|       3|        3|       2197|   14627|     1|         0|  27|      2017|\n",
            "|0863d9f1-0a2f-479...|2021-02-11| 380920|       2|        3|       1536|    8874|     2|         0|   3|      2017|\n",
            "|ee174230-be1d-4c5...|2020-06-16| 136723|       2|        3|       1573|   14629|     2|         0|  44|      2017|\n",
            "|c2939c62-40e3-44e...|2020-06-07| 827287|       3|        4|       5217|   14513|     1|         0|  78|      2017|\n",
            "|012023d6-837a-43d...|2019-05-20| 137045|       3|        3|       2144|    8349|     1|         0|  42|      2017|\n",
            "|ac2a2e5b-1984-48f...|2020-01-25| 347802|       2|        2|       1616|   10262|     2|         0|   6|      2017|\n",
            "|959bb26a-6e06-448...|2020-12-17| 414938|       2|        3|       2466|   13301|     1|         0|  47|      2017|\n",
            "+--------------------+----------+-------+--------+---------+-----------+--------+------+----------+----+----------+\n",
            "only showing top 20 rows\n",
            "\n"
          ]
        }
      ],
      "source": [
        "# 11. Read the parquet formatted data.\n",
        "# Read the Parquet formatted data from the specified location\n",
        "parquet_data = spark.read.parquet(\"/path/to/parquet_files\")\n",
        "\n",
        "# Show the contents of the DataFrame\n",
        "parquet_data.show()\n"
      ]
    },
    {
      "cell_type": "code",
      "execution_count": 40,
      "metadata": {
        "id": "J6MJkHfvVcvh",
        "colab": {
          "base_uri": "https://localhost:8080/"
        },
        "outputId": "51ea2aae-7b86-4109-c58c-2a62cbb17ea0"
      },
      "outputs": [
        {
          "output_type": "stream",
          "name": "stdout",
          "text": [
            "+--------------------+----------+----------+------+--------+---------+-----------+--------+------+----------+----+\n",
            "|                  id|      date|date_built| price|bedrooms|bathrooms|sqft_living|sqft_lot|floors|waterfront|view|\n",
            "+--------------------+----------+----------+------+--------+---------+-----------+--------+------+----------+----+\n",
            "|e0726d4d-d595-407...|2022-01-08|      2017|424418|       3|        2|       2249|   13878|     2|         0|   4|\n",
            "|e81aacfe-17fe-46b...|2020-06-16|      2016|181925|       3|        3|       2137|   11709|     2|         0|  22|\n",
            "|2ed8d509-7372-46d...|2021-08-06|      2015|258710|       3|        3|       1918|    9666|     1|         0|  25|\n",
            "|f876d86f-3c9f-42b...|2019-02-27|      2011|167864|       3|        3|       2471|   13924|     2|         0|  15|\n",
            "|941bad30-eb49-4a7...|2020-05-09|      2015|229896|       3|        3|       2197|    8641|     1|         0|   3|\n",
            "|dd61eb34-6589-4c0...|2021-07-25|      2016|210247|       3|        2|       1672|   11986|     2|         0|  28|\n",
            "|ea620c7b-c2f7-4c6...|2021-05-31|      2011|437958|       3|        3|       2356|   11052|     1|         0|  26|\n",
            "|0cfe57f3-28c2-472...|2019-10-04|      2015|308313|       3|        3|       1960|    9453|     2|         0|   2|\n",
            "|4566cd2a-ac6e-435...|2019-07-15|      2016|177541|       3|        3|       2130|   10517|     2|         0|  25|\n",
            "|50873b8b-92b8-44c...|2022-06-05|      2017|268554|       3|        3|       1962|   13955|     2|         0|   6|\n",
            "|e0fc52aa-c349-4ba...|2019-04-17|      2016|202790|       3|        3|       2025|   10987|     2|         0|  19|\n",
            "|0be5f2fd-e2ca-46c...|2020-04-30|      2014|189137|       3|        2|       2021|    8788|     1|         0|  42|\n",
            "|e252c4ce-b5b2-4ef...|2019-10-28|      2014|168463|       3|        3|       2271|    8317|     2|         0|   2|\n",
            "|a16c1fd3-50c3-4e7...|2020-02-12|      2014|372151|       3|        3|       1787|   12012|     2|         0|  16|\n",
            "|d715f295-2fbf-4e9...|2021-05-17|      2015|391574|       3|        2|       1635|    8040|     2|         0|  10|\n",
            "|a18515a2-86f3-46b...|2022-02-18|      2015|419543|       3|        2|       1642|   12826|     2|         0|  24|\n",
            "|15a5830f-1529-4c5...|2019-07-06|      2010|843191|       3|        6|       5086|   14637|     2|         0|  91|\n",
            "|0ffe23e3-9d0f-442...|2021-11-18|      2017|429183|       3|        3|       2162|   12567|     1|         0|  49|\n",
            "|209c1286-0834-463...|2021-07-04|      2010|395178|       3|        2|       1504|    9617|     2|         0|  37|\n",
            "|d6b9fc56-fc83-469...|2021-10-23|      2013|332675|       3|        2|       1515|    8390|     1|         0|  21|\n",
            "+--------------------+----------+----------+------+--------+---------+-----------+--------+------+----------+----+\n",
            "only showing top 20 rows\n",
            "\n"
          ]
        }
      ],
      "source": [
        "# 12. Create a temporary table for the parquet data.\n",
        "# Assuming you have already loaded and processed the Parquet data as Spark DataFrame\n",
        "# Convert the Pandas DataFrame to a Spark DataFrame\n",
        "spark_home_sales_df = spark.createDataFrame(home_sales_df)\n",
        "\n",
        "# Create a temporary view for the Spark DataFrame\n",
        "spark_home_sales_df.createOrReplaceTempView(\"parquet_data_temp\")\n",
        "\n",
        "# Now you can run SQL queries on the temporary view\n",
        "query = \"SELECT * FROM parquet_data_temp WHERE bedrooms = 3\"\n",
        "result = spark.sql(query)\n",
        "result.show()\n"
      ]
    },
    {
      "cell_type": "code",
      "execution_count": 41,
      "metadata": {
        "colab": {
          "base_uri": "https://localhost:8080/"
        },
        "id": "G_Vhb52rU1Sn",
        "outputId": "4078886f-f471-479e-9649-216e4d5aeced"
      },
      "outputs": [
        {
          "output_type": "stream",
          "name": "stdout",
          "text": [
            "--- 0.028130054473876953 seconds ---\n",
            "+----+-------------+\n",
            "|view|average_price|\n",
            "+----+-------------+\n",
            "|  65|    736679.93|\n",
            "|  54|    798684.82|\n",
            "|  77|   1076205.56|\n",
            "|  94|    1033536.2|\n",
            "|  57|     734340.5|\n",
            "|  84|   1117233.13|\n",
            "|  98|   1053739.33|\n",
            "|  95|    1054325.6|\n",
            "|  71|     775651.1|\n",
            "|  68|    716785.44|\n",
            "|  87|    1072285.2|\n",
            "|  72|    780914.67|\n",
            "|  58|    759764.65|\n",
            "|  63|    711614.55|\n",
            "|  56|     718176.4|\n",
            "|  51|    788128.21|\n",
            "|  52|    733780.26|\n",
            "|  79|   1009565.08|\n",
            "|  88|   1031719.35|\n",
            "|  96|   1017815.92|\n",
            "+----+-------------+\n",
            "only showing top 20 rows\n",
            "\n"
          ]
        }
      ],
      "source": [
        "# 13. Run the query that filters out the view ratings with average price of greater than or equal to $350,000\n",
        "# with the parquet DataFrame. Round your average to two decimal places.\n",
        "# Determine the runtime and compare it to the cached version.\n",
        "# Read the parquet formatted data into a DataFrame\n",
        "parquet_data_df = spark.read.parquet(\"/path/to/parquet_files\")\n",
        "\n",
        "# Create a temporary view for the parquet DataFrame\n",
        "parquet_data_df.createOrReplaceTempView(\"parquet_data_temp\")\n",
        "\n",
        "# Write the SQL query to filter out view ratings with average price >= $350,000\n",
        "query = \"\"\"\n",
        "SELECT view, ROUND(AVG(price), 2) AS average_price\n",
        "FROM parquet_data_temp\n",
        "GROUP BY view\n",
        "HAVING AVG(price) >= 350000\n",
        "\"\"\"\n",
        "\n",
        "# Execute the SQL query and calculate the runtime\n",
        "start_time = time.time()\n",
        "result = spark.sql(query)\n",
        "print(\"--- %s seconds ---\" % (time.time() - start_time))\n",
        "\n",
        "# Show the result\n",
        "result.show()\n"
      ]
    },
    {
      "cell_type": "code",
      "execution_count": 42,
      "metadata": {
        "id": "hjjYzQGjtbq8"
      },
      "outputs": [],
      "source": [
        "# 14. Uncache the home_sales temporary table.\n",
        "# Uncache the temporary table\n",
        "spark.catalog.uncacheTable(\"home_sales\")\n"
      ]
    },
    {
      "cell_type": "code",
      "execution_count": null,
      "metadata": {
        "id": "Sy9NBvO7tlmm",
        "colab": {
          "base_uri": "https://localhost:8080/"
        },
        "outputId": "3d2d02e6-d280-4d09-d8a2-4d983cd3a543"
      },
      "outputs": [
        {
          "output_type": "stream",
          "name": "stdout",
          "text": [
            "Is home_sales cached? False\n"
          ]
        }
      ],
      "source": [
        "# 15. Check if the home_sales is no longer cached\n",
        "# Check if the home_sales table is cached\n",
        "is_cached = spark.catalog.isCached(\"home_sales\")\n",
        "\n",
        "# Print the result\n",
        "print(\"Is home_sales cached?\", is_cached)\n",
        "\n"
      ]
    },
    {
      "cell_type": "code",
      "execution_count": null,
      "metadata": {
        "id": "Si-BNruRUGK3"
      },
      "outputs": [],
      "source": []
    }
  ],
  "metadata": {
    "colab": {
      "provenance": []
    },
    "gpuClass": "standard",
    "kernelspec": {
      "display_name": "Python 3 (ipykernel)",
      "language": "python",
      "name": "python3"
    },
    "language_info": {
      "codemirror_mode": {
        "name": "ipython",
        "version": 3
      },
      "file_extension": ".py",
      "mimetype": "text/x-python",
      "name": "python",
      "nbconvert_exporter": "python",
      "pygments_lexer": "ipython3",
      "version": "3.10.4"
    },
    "nteract": {
      "version": "0.28.0"
    }
  },
  "nbformat": 4,
  "nbformat_minor": 0
}